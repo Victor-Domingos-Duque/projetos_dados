{
 "cells": [
  {
   "cell_type": "markdown",
   "id": "b0452040",
   "metadata": {
    "ExecuteTime": {
     "end_time": "2023-09-16T20:24:22.720007Z",
     "start_time": "2023-09-16T20:24:22.704869Z"
    }
   },
   "source": [
    "# Filtro cidade de São Paulo"
   ]
  },
  {
   "cell_type": "code",
   "execution_count": 1,
   "id": "bcff70bb",
   "metadata": {
    "ExecuteTime": {
     "end_time": "2023-09-16T20:26:41.905870Z",
     "start_time": "2023-09-16T20:26:40.960227Z"
    }
   },
   "outputs": [],
   "source": [
    "import pandas as pd"
   ]
  },
  {
   "cell_type": "code",
   "execution_count": 2,
   "id": "a2f4efc1",
   "metadata": {
    "ExecuteTime": {
     "end_time": "2023-09-16T20:36:06.719662Z",
     "start_time": "2023-09-16T20:36:06.714547Z"
    }
   },
   "outputs": [],
   "source": [
    "dados = pd.read_csv('./dados/microdados_enem_2019_sp.csv',\n",
    "                    sep=';', encoding='utf-8')"
   ]
  },
  {
   "cell_type": "code",
   "execution_count": 3,
   "id": "a7239121",
   "metadata": {
    "ExecuteTime": {
     "end_time": "2023-09-16T20:27:18.607946Z",
     "start_time": "2023-09-16T20:27:18.585371Z"
    }
   },
   "outputs": [
    {
     "data": {
      "text/html": [
       "<div>\n",
       "<style scoped>\n",
       "    .dataframe tbody tr th:only-of-type {\n",
       "        vertical-align: middle;\n",
       "    }\n",
       "\n",
       "    .dataframe tbody tr th {\n",
       "        vertical-align: top;\n",
       "    }\n",
       "\n",
       "    .dataframe thead th {\n",
       "        text-align: right;\n",
       "    }\n",
       "</style>\n",
       "<table border=\"1\" class=\"dataframe\">\n",
       "  <thead>\n",
       "    <tr style=\"text-align: right;\">\n",
       "      <th></th>\n",
       "      <th>NU_INSCRICAO</th>\n",
       "      <th>CO_MUNICIPIO_RESIDENCIA</th>\n",
       "      <th>NO_MUNICIPIO_RESIDENCIA</th>\n",
       "      <th>CO_UF_RESIDENCIA</th>\n",
       "      <th>SG_UF_RESIDENCIA</th>\n",
       "      <th>NU_IDADE</th>\n",
       "      <th>TP_SEXO</th>\n",
       "      <th>TP_ESTADO_CIVIL</th>\n",
       "      <th>TP_COR_RACA</th>\n",
       "      <th>TP_NACIONALIDADE</th>\n",
       "      <th>...</th>\n",
       "      <th>NU_NOTA_MT</th>\n",
       "      <th>TP_LINGUA</th>\n",
       "      <th>TP_STATUS_REDACAO</th>\n",
       "      <th>NU_NOTA_COMP1</th>\n",
       "      <th>NU_NOTA_COMP2</th>\n",
       "      <th>NU_NOTA_COMP3</th>\n",
       "      <th>NU_NOTA_COMP4</th>\n",
       "      <th>NU_NOTA_COMP5</th>\n",
       "      <th>NU_NOTA_REDACAO</th>\n",
       "      <th>Q025</th>\n",
       "    </tr>\n",
       "  </thead>\n",
       "  <tbody>\n",
       "    <tr>\n",
       "      <th>0</th>\n",
       "      <td>1,90E+11</td>\n",
       "      <td>3546801</td>\n",
       "      <td>Santa Isabel</td>\n",
       "      <td>35</td>\n",
       "      <td>SP</td>\n",
       "      <td>22</td>\n",
       "      <td>M</td>\n",
       "      <td>1</td>\n",
       "      <td>3</td>\n",
       "      <td>1</td>\n",
       "      <td>...</td>\n",
       "      <td>6002.0</td>\n",
       "      <td>0</td>\n",
       "      <td>1.0</td>\n",
       "      <td>160.0</td>\n",
       "      <td>200.0</td>\n",
       "      <td>180.0</td>\n",
       "      <td>200.0</td>\n",
       "      <td>200.0</td>\n",
       "      <td>940.0</td>\n",
       "      <td>B</td>\n",
       "    </tr>\n",
       "    <tr>\n",
       "      <th>1</th>\n",
       "      <td>1,90E+11</td>\n",
       "      <td>3538204</td>\n",
       "      <td>Pinhalzinho</td>\n",
       "      <td>35</td>\n",
       "      <td>SP</td>\n",
       "      <td>19</td>\n",
       "      <td>M</td>\n",
       "      <td>1</td>\n",
       "      <td>3</td>\n",
       "      <td>1</td>\n",
       "      <td>...</td>\n",
       "      <td>NaN</td>\n",
       "      <td>1</td>\n",
       "      <td>NaN</td>\n",
       "      <td>NaN</td>\n",
       "      <td>NaN</td>\n",
       "      <td>NaN</td>\n",
       "      <td>NaN</td>\n",
       "      <td>NaN</td>\n",
       "      <td>NaN</td>\n",
       "      <td>A</td>\n",
       "    </tr>\n",
       "    <tr>\n",
       "      <th>2</th>\n",
       "      <td>1,90E+11</td>\n",
       "      <td>3550308</td>\n",
       "      <td>São Paulo</td>\n",
       "      <td>35</td>\n",
       "      <td>SP</td>\n",
       "      <td>17</td>\n",
       "      <td>F</td>\n",
       "      <td>1</td>\n",
       "      <td>3</td>\n",
       "      <td>1</td>\n",
       "      <td>...</td>\n",
       "      <td>7318.0</td>\n",
       "      <td>0</td>\n",
       "      <td>1.0</td>\n",
       "      <td>160.0</td>\n",
       "      <td>120.0</td>\n",
       "      <td>200.0</td>\n",
       "      <td>200.0</td>\n",
       "      <td>200.0</td>\n",
       "      <td>880.0</td>\n",
       "      <td>A</td>\n",
       "    </tr>\n",
       "    <tr>\n",
       "      <th>3</th>\n",
       "      <td>1,90E+11</td>\n",
       "      <td>3548708</td>\n",
       "      <td>São Bernardo do Campo</td>\n",
       "      <td>35</td>\n",
       "      <td>SP</td>\n",
       "      <td>19</td>\n",
       "      <td>M</td>\n",
       "      <td>1</td>\n",
       "      <td>3</td>\n",
       "      <td>1</td>\n",
       "      <td>...</td>\n",
       "      <td>3932.0</td>\n",
       "      <td>1</td>\n",
       "      <td>1.0</td>\n",
       "      <td>80.0</td>\n",
       "      <td>160.0</td>\n",
       "      <td>120.0</td>\n",
       "      <td>100.0</td>\n",
       "      <td>100.0</td>\n",
       "      <td>560.0</td>\n",
       "      <td>B</td>\n",
       "    </tr>\n",
       "    <tr>\n",
       "      <th>4</th>\n",
       "      <td>1,90E+11</td>\n",
       "      <td>3549409</td>\n",
       "      <td>São Joaquim da Barra</td>\n",
       "      <td>35</td>\n",
       "      <td>SP</td>\n",
       "      <td>37</td>\n",
       "      <td>M</td>\n",
       "      <td>2</td>\n",
       "      <td>1</td>\n",
       "      <td>1</td>\n",
       "      <td>...</td>\n",
       "      <td>NaN</td>\n",
       "      <td>1</td>\n",
       "      <td>NaN</td>\n",
       "      <td>NaN</td>\n",
       "      <td>NaN</td>\n",
       "      <td>NaN</td>\n",
       "      <td>NaN</td>\n",
       "      <td>NaN</td>\n",
       "      <td>NaN</td>\n",
       "      <td>B</td>\n",
       "    </tr>\n",
       "  </tbody>\n",
       "</table>\n",
       "<p>5 rows × 44 columns</p>\n",
       "</div>"
      ],
      "text/plain": [
       "  NU_INSCRICAO  CO_MUNICIPIO_RESIDENCIA NO_MUNICIPIO_RESIDENCIA  \\\n",
       "0     1,90E+11                  3546801            Santa Isabel   \n",
       "1     1,90E+11                  3538204             Pinhalzinho   \n",
       "2     1,90E+11                  3550308               São Paulo   \n",
       "3     1,90E+11                  3548708   São Bernardo do Campo   \n",
       "4     1,90E+11                  3549409    São Joaquim da Barra   \n",
       "\n",
       "   CO_UF_RESIDENCIA SG_UF_RESIDENCIA  NU_IDADE TP_SEXO  TP_ESTADO_CIVIL  \\\n",
       "0                35               SP        22       M                1   \n",
       "1                35               SP        19       M                1   \n",
       "2                35               SP        17       F                1   \n",
       "3                35               SP        19       M                1   \n",
       "4                35               SP        37       M                2   \n",
       "\n",
       "   TP_COR_RACA  TP_NACIONALIDADE  ...  NU_NOTA_MT TP_LINGUA  \\\n",
       "0            3                 1  ...      6002.0         0   \n",
       "1            3                 1  ...         NaN         1   \n",
       "2            3                 1  ...      7318.0         0   \n",
       "3            3                 1  ...      3932.0         1   \n",
       "4            1                 1  ...         NaN         1   \n",
       "\n",
       "   TP_STATUS_REDACAO NU_NOTA_COMP1  NU_NOTA_COMP2  NU_NOTA_COMP3  \\\n",
       "0                1.0         160.0          200.0          180.0   \n",
       "1                NaN           NaN            NaN            NaN   \n",
       "2                1.0         160.0          120.0          200.0   \n",
       "3                1.0          80.0          160.0          120.0   \n",
       "4                NaN           NaN            NaN            NaN   \n",
       "\n",
       "   NU_NOTA_COMP4  NU_NOTA_COMP5  NU_NOTA_REDACAO  Q025  \n",
       "0          200.0          200.0            940.0     B  \n",
       "1            NaN            NaN              NaN     A  \n",
       "2          200.0          200.0            880.0     A  \n",
       "3          100.0          100.0            560.0     B  \n",
       "4            NaN            NaN              NaN     B  \n",
       "\n",
       "[5 rows x 44 columns]"
      ]
     },
     "execution_count": 3,
     "metadata": {},
     "output_type": "execute_result"
    }
   ],
   "source": [
    "dados.head()"
   ]
  },
  {
   "cell_type": "code",
   "execution_count": 4,
   "id": "f7314022-030f-4564-80f9-21f1af61dcfa",
   "metadata": {},
   "outputs": [],
   "source": [
    "# dados['NO_MUNICIPIO_RESIDENCIA'].unique()"
   ]
  },
  {
   "cell_type": "code",
   "execution_count": 5,
   "id": "2790743d",
   "metadata": {
    "ExecuteTime": {
     "end_time": "2023-09-16T20:38:47.880720Z",
     "start_time": "2023-09-16T20:38:47.862070Z"
    }
   },
   "outputs": [],
   "source": [
    "dados = dados[dados['NO_MUNICIPIO_RESIDENCIA']=='São Bernardo do Campo'].reset_index(drop=True)"
   ]
  },
  {
   "cell_type": "code",
   "execution_count": 6,
   "id": "f95d1188-c846-457a-ac2b-7da34be74d07",
   "metadata": {},
   "outputs": [],
   "source": [
    "dados = dados[['NO_MUNICIPIO_RESIDENCIA', 'NU_IDADE', 'TP_SEXO', 'NU_NOTA_REDACAO'\t]]"
   ]
  },
  {
   "cell_type": "code",
   "execution_count": 7,
   "id": "816d9fec-ffc4-424d-8110-f7100115f7fe",
   "metadata": {},
   "outputs": [],
   "source": [
    "dados['NU_NOTA_REDACAO'] = dados['NU_NOTA_REDACAO'].fillna(0)"
   ]
  },
  {
   "cell_type": "code",
   "execution_count": 8,
   "id": "e3c11d21",
   "metadata": {
    "ExecuteTime": {
     "end_time": "2023-09-16T20:38:48.129397Z",
     "start_time": "2023-09-16T20:38:48.104299Z"
    }
   },
   "outputs": [
    {
     "data": {
      "text/plain": [
       "NO_MUNICIPIO_RESIDENCIA    16237\n",
       "NU_IDADE                   16237\n",
       "TP_SEXO                    16237\n",
       "NU_NOTA_REDACAO            16237\n",
       "dtype: int64"
      ]
     },
     "execution_count": 8,
     "metadata": {},
     "output_type": "execute_result"
    }
   ],
   "source": [
    "dados.count()"
   ]
  },
  {
   "cell_type": "code",
   "execution_count": 9,
   "id": "98ffd7a0",
   "metadata": {
    "ExecuteTime": {
     "end_time": "2023-09-16T21:07:09.017396Z",
     "start_time": "2023-09-16T21:07:08.967947Z"
    }
   },
   "outputs": [],
   "source": [
    "dados.to_csv(f\"./dados/dados_sao_berbardo_do_campo.csv\", sep=\";\", index=False, header=False, encoding='utf-8')"
   ]
  }
 ],
 "metadata": {
  "kernelspec": {
   "display_name": "Python 3 (ipykernel)",
   "language": "python",
   "name": "python3"
  },
  "language_info": {
   "codemirror_mode": {
    "name": "ipython",
    "version": 3
   },
   "file_extension": ".py",
   "mimetype": "text/x-python",
   "name": "python",
   "nbconvert_exporter": "python",
   "pygments_lexer": "ipython3",
   "version": "3.11.6"
  }
 },
 "nbformat": 4,
 "nbformat_minor": 5
}
